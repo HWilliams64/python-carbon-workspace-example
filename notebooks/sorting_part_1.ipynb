{
 "cells": [
  {
   "cell_type": "markdown",
   "metadata": {},
   "source": [
    "# List comprehension\n",
    "\n",
    "Below we use list comprehension to create list with the numbers 1 - 20. List comprehension is pythonic syntax that allows us to convert a multi-line for-loop into a single line.\n",
    "\n",
    "The code example in the cell below is the same as the following for-loop:\n",
    "\n",
    "```python\n",
    "numbers = [];\n",
    "for i in range(20):\n",
    "    numbers.append(i);\n",
    "print(numbers);\n",
    "```"
   ]
  },
  {
   "cell_type": "code",
   "execution_count": 1,
   "metadata": {},
   "outputs": [
    {
     "name": "stdout",
     "output_type": "stream",
     "text": [
      "[0, 1, 2, 3, 4, 5, 6, 7, 8, 9, 10, 11, 12, 13, 14, 15, 16, 17, 18, 19]\n"
     ]
    }
   ],
   "source": [
    "numbers = [i for i in range(20)]\n",
    "print(numbers)"
   ]
  },
  {
   "cell_type": "markdown",
   "metadata": {},
   "source": [
    "# Filtering with list comprehension\n",
    "\n",
    "There is an optional conditional option we can preform at the end, to filter out values added to the list. It only accepts one if-statement.\n",
    "\n",
    "The code example in the cell below is the same as the following for-loop:\n",
    "\n",
    "```python\n",
    "numbers = [];\n",
    "for i in range(20):\n",
    "    if i % 2 == 0:\n",
    "        numbers.append(i);\n",
    "print(numbers);\n",
    "```\n",
    "\n",
    "In the example below we are only adding even numbers from the range 0 - 20."
   ]
  },
  {
   "cell_type": "code",
   "execution_count": 2,
   "metadata": {},
   "outputs": [
    {
     "name": "stdout",
     "output_type": "stream",
     "text": [
      "[0, 2, 4, 6, 8, 10, 12, 14, 16, 18]\n"
     ]
    }
   ],
   "source": [
    "only_even = [i for i in range(20) if i % 2 == 0]\n",
    "print(only_even)"
   ]
  },
  {
   "cell_type": "markdown",
   "metadata": {},
   "source": [
    "# Building a random number list\n",
    "\n",
    "We don't always have to add the element produced by the for-loop into the list. Sometimes you want to use the functionality of the combination of the range and for-loop to do something n times but don't care about n each iteration. In the prior examples i is a variable that would change each iteration. We can replace it with the symbol \"_\" to tell python don't waist memory creating this variable because we aren't going to use it.\n",
    "\n",
    "The example below prints \"hello\" 20 times, We use \"_\" instead of i because we aren't going to use the number in the for-loop:\n",
    "\n",
    "```python\n",
    "for _ in range(20):\n",
    "    print('Hello')\n",
    "```\n",
    "\n",
    "In the code cell below we create a list of 20 random numbers that are between 0 and 100. "
   ]
  },
  {
   "cell_type": "code",
   "execution_count": 3,
   "metadata": {},
   "outputs": [
    {
     "name": "stdout",
     "output_type": "stream",
     "text": [
      "[38, 24, 39, 94, 20, 76, 95, 62, 26, 61, 11, 33, 76, 12, 58, 11, 67, 66, 20, 44]\n"
     ]
    }
   ],
   "source": [
    "import random\n",
    "random_numbers = [random.randint(0, 100) for _ in range(20)]\n",
    "print(random_numbers)"
   ]
  },
  {
   "cell_type": "markdown",
   "metadata": {},
   "source": [
    "# Sorting the list\n",
    "\n",
    "To sort the list of numbers we call the list's `sort()` function. This will reorder the list in ascending order."
   ]
  },
  {
   "cell_type": "code",
   "execution_count": 4,
   "metadata": {},
   "outputs": [
    {
     "name": "stdout",
     "output_type": "stream",
     "text": [
      "Before:  [17, 71, 36, 48, 14, 47, 26, 55, 67, 44, 77, 55, 21, 67, 57, 30, 8, 65, 26, 33]\n",
      "After:   [8, 14, 17, 21, 26, 26, 30, 33, 36, 44, 47, 48, 55, 55, 57, 65, 67, 67, 71, 77]\n"
     ]
    }
   ],
   "source": [
    "import random\n",
    "\n",
    "random_numbers = [random.randint(0, 100) for _ in range(20)]\n",
    "\n",
    "print('Before:'.ljust(8), random_numbers)\n",
    "\n",
    "random_numbers.sort()\n",
    "\n",
    "print('After:'.ljust(8), random_numbers)"
   ]
  },
  {
   "cell_type": "markdown",
   "metadata": {},
   "source": [
    "# Shorting Stings\n",
    "\n",
    "We can use the sort function to sort strings in alphabetical order.\n",
    "\n",
    "In the example below we use the `shuffle()` function in the random package to randomly reorder the list. Then we call the `sort()` function to alphabetize the list. "
   ]
  },
  {
   "cell_type": "code",
   "execution_count": 5,
   "metadata": {},
   "outputs": [
    {
     "name": "stdout",
     "output_type": "stream",
     "text": [
      "Before:  ['banana', 'kiwi', 'pineapple', 'orange', 'pear', 'lime', 'grape', 'apple', 'blue berry']\n",
      "After:   ['apple', 'banana', 'blue berry', 'grape', 'kiwi', 'lime', 'orange', 'pear', 'pineapple']\n"
     ]
    }
   ],
   "source": [
    "import random\n",
    "\n",
    "fruits = ['apple', 'banana', 'pear', 'grape', 'pineapple', 'orange', 'lime', 'kiwi', 'blue berry']\n",
    "\n",
    "random.shuffle(fruits)\n",
    "\n",
    "print('Before:'.ljust(8), fruits)\n",
    "\n",
    "fruits.sort()\n",
    "\n",
    "print('After:'.ljust(8), fruits)"
   ]
  },
  {
   "cell_type": "markdown",
   "metadata": {},
   "source": [
    "# Reversed\n",
    "\n",
    "We can reverse the list by passing in the `reverse=True` argument into the  `sort()` function"
   ]
  },
  {
   "cell_type": "code",
   "execution_count": 6,
   "metadata": {},
   "outputs": [
    {
     "name": "stdout",
     "output_type": "stream",
     "text": [
      "Reversed: ['pineapple', 'pear', 'orange', 'lime', 'kiwi', 'grape', 'blue berry', 'banana', 'apple']\n"
     ]
    }
   ],
   "source": [
    "fruits.sort(reverse=True)\n",
    "\n",
    "print('Reversed:'.ljust(8), fruits)"
   ]
  },
  {
   "cell_type": "markdown",
   "metadata": {},
   "source": [
    "# sort() vs sorted()\n",
    "\n",
    "The list class has a `sort()` method that we just discussed. There is also a built in `sorted()` function that does the same thing as the `sort()` function but instead of modifying the original list it returns a new list and leaves the original list unchanged.\n",
    "\n",
    "Note how the two list are equal because they contain the same elements in the same order but they are not identical because the `sorted()` function returns a new sorted list."
   ]
  },
  {
   "cell_type": "code",
   "execution_count": 7,
   "metadata": {},
   "outputs": [
    {
     "name": "stdout",
     "output_type": "stream",
     "text": [
      "Equal: True Identical: False\n"
     ]
    }
   ],
   "source": [
    "new_fruits = sorted(fruits, reverse=True)\n",
    "print(f'Equal: {new_fruits == fruits} Identical: {new_fruits is fruits}')\n"
   ]
  },
  {
   "cell_type": "markdown",
   "metadata": {},
   "source": [
    "# Sorting complex objects\n",
    "\n",
    "Now we are going to sort elements that don't have a natural ordering, such as dictionaries. For this we need to use the `key` argument in the `sort()` or `sorted()` functions. \n",
    "\n",
    "The `key` argument is a reference to a function to be used to calculate the element ordering. The function must have the following signature:\n",
    "``` python\n",
    "def FUNCTION_NAME(element) -> int:\n",
    "```\n",
    "\n",
    "In other words, the function must accept a single parameter that will be an element in the list and it must return a number that denotes the element's order. This function will be called for each element in the list. And the numeric values returned by the function will be used to order the elements."
   ]
  },
  {
   "cell_type": "code",
   "execution_count": 8,
   "metadata": {},
   "outputs": [
    {
     "name": "stdout",
     "output_type": "stream",
     "text": [
      "[{'fruit': 'orange', 'quantity': -4}, {'fruit': 'apple', 'quantity': 1}, {'fruit': 'pineapple', 'quantity': 2}, {'fruit': 'pear', 'quantity': 7}, {'fruit': 'grape', 'quantity': 10}, {'fruit': 'banana', 'quantity': 12}]\n"
     ]
    }
   ],
   "source": [
    "fruits = [{'fruit': 'apple', 'quantity': 1},\n",
    "        {'fruit': 'banana', 'quantity': 12},\n",
    "        {'fruit': 'pear', 'quantity': 7},\n",
    "        {'fruit': 'grape', 'quantity': 10},\n",
    "        {'fruit': 'pineapple', 'quantity': 2},\n",
    "        {'fruit': 'orange', 'quantity': -4}]\n",
    "\n",
    "def get_quantity(value):\n",
    "  return value['quantity']\n",
    "\n",
    "fruits.sort(key=get_quantity) # notice there is no parentheses at the end\n",
    "\n",
    "print(fruits)\n"
   ]
  },
  {
   "cell_type": "markdown",
   "metadata": {},
   "source": [
    "# Lambda\n",
    "\n",
    "We can use the key word `lambda` to make an anonymous function. An anonymous function is a function  that has no name. In python, a _lambda expression_ is a function must accept one or more arguments and return a value. The full functional signature would be:\n",
    "\n",
    "``` python\n",
    "def lambda(args...) -> a_value:\n",
    "```\n",
    "Lambda expression rules:\n",
    "\n",
    "- The expression is only a single line of code. \n",
    "- Because all lambda expression must return a value, we don't need to explicitly say \"return\" because its implied.\n",
    "\n",
    "Below we create a lambda expression that accepts a number and returns the number squared."
   ]
  },
  {
   "cell_type": "code",
   "execution_count": 9,
   "metadata": {},
   "outputs": [
    {
     "name": "stdout",
     "output_type": "stream",
     "text": [
      "25\n",
      "25\n"
     ]
    }
   ],
   "source": [
    "# Long hand\n",
    "def square_regular(n) -> int:\n",
    "    return n ** 2\n",
    "\n",
    "# Short hand\n",
    "square_lambda = lambda n: n ** 2\n",
    "\n",
    "result = square_regular(5)\n",
    "print(result)\n",
    "\n",
    "result = square_lambda(5)\n",
    "print(result)"
   ]
  },
  {
   "cell_type": "markdown",
   "metadata": {},
   "source": [
    "# Using lambda in sorting\n",
    "\n",
    "In the example above where we sorted a list of dictionaries we created a function named `get_quantity()`, in the example below we will replace that function with a lambda expression."
   ]
  },
  {
   "cell_type": "code",
   "execution_count": 10,
   "metadata": {},
   "outputs": [
    {
     "name": "stdout",
     "output_type": "stream",
     "text": [
      "Before:  [{'fruit': 'banana', 'quantity': 12}, {'fruit': 'pineapple', 'quantity': 2}, {'fruit': 'pear', 'quantity': 7}, {'fruit': 'apple', 'quantity': 1}, {'fruit': 'grape', 'quantity': 10}, {'fruit': 'orange', 'quantity': -4}]\n",
      "After:   [{'fruit': 'orange', 'quantity': -4}, {'fruit': 'apple', 'quantity': 1}, {'fruit': 'pineapple', 'quantity': 2}, {'fruit': 'pear', 'quantity': 7}, {'fruit': 'grape', 'quantity': 10}, {'fruit': 'banana', 'quantity': 12}]\n"
     ]
    }
   ],
   "source": [
    "random.shuffle(fruits)\n",
    "\n",
    "\n",
    "lambda_fun = lambda v: v['quantity']\n",
    "\n",
    "print('Before:'.ljust(8), fruits)\n",
    "\n",
    "fruits.sort(key=lambda v: v['quantity'])\n",
    "\n",
    "print('After:'.ljust(8), fruits)"
   ]
  }
 ],
 "metadata": {
  "interpreter": {
   "hash": "65d994a2586566578e6f5f03c290bfd0b2867c7905a9622796af24a8a04596a2"
  },
  "kernelspec": {
   "display_name": "Python 3.8.10 64-bit ('.venv': venv)",
   "language": "python",
   "name": "python3"
  },
  "language_info": {
   "codemirror_mode": {
    "name": "ipython",
    "version": 3
   },
   "file_extension": ".py",
   "mimetype": "text/x-python",
   "name": "python",
   "nbconvert_exporter": "python",
   "pygments_lexer": "ipython3",
   "version": "3.8.10"
  },
  "orig_nbformat": 4
 },
 "nbformat": 4,
 "nbformat_minor": 2
}
