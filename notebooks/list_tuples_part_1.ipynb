{
 "cells": [
  {
   "cell_type": "markdown",
   "metadata": {},
   "source": [
    "# Data Structures\n",
    "\n",
    "A data structure is a particular way to organize data (multiple variables) in a computer. They are structured in a way, that enables us to access their data efficiently. \n",
    "\n",
    "They also allow us to store an arbitrary amount of data. Often times we do not know how much data the user will create or need. So we use data structures to store variable amounts of information.\n",
    "\n",
    "In this notebook we will discuss Linear data structures known as a `list` and a `tuple`.\n"
   ]
  },
  {
   "cell_type": "markdown",
   "metadata": {},
   "source": [
    "# Linear Data structure\n",
    "\n",
    "A linear data structure organizes it's data in a linear fashion. This means we can diagram the data within the structure as a straight line. Usually, linear data structures maintain the order of their elements and each element is sequenced after the other."
   ]
  },
  {
   "cell_type": "markdown",
   "metadata": {},
   "source": [
    "# Tuples and Lists\n",
    "\n",
    "Tuples and Lists are ordered collections of multiple variables. Instead of creating many different variables. You can collect them all in a single data structure that will keep them in order for you.   \n",
    "\n",
    "The order is indexed and the index always starts a 0 and end at n-1, where n is the length of the collection. \n",
    "\n",
    "| **Index** | 0 | 1 | 2 | 3 |\n",
    "|-----------|---|---|---|---|\n",
    "| **Value** | value_1 | value_2 | value_3 | value_4 |\n",
    "\n",
    "Order in a List and Tuple is maintained by the value's index.\n"
   ]
  },
  {
   "cell_type": "markdown",
   "metadata": {},
   "source": [
    "# Tuple\n",
    "\n",
    "A tuple is a collection which is ordered and immutable. In Python tuples are written with parentheses `()`. \n",
    "\n",
    "*Immutable*, means once it's created we may not add, remove nor edit it.\n",
    "\n",
    "The code below creates an empty tuple:"
   ]
  },
  {
   "cell_type": "code",
   "execution_count": null,
   "metadata": {},
   "outputs": [],
   "source": [
    "my_tuple = ()"
   ]
  },
  {
   "cell_type": "markdown",
   "metadata": {},
   "source": [
    "Code below creates a tuple with these values. We have created a tuple with “car” at index 0, “cow” at index 1 and “taco” at index 2.\n",
    "\n",
    "| **Index** | 0 | 1 | 2 |\n",
    "|-----------|---|---|---|\n",
    "| **Value** | \"car\" | \"cow\" | \"taco\" |"
   ]
  },
  {
   "cell_type": "code",
   "execution_count": null,
   "metadata": {},
   "outputs": [],
   "source": [
    "my_tuple = (\"car\", \"cow\", \"taco\")"
   ]
  },
  {
   "cell_type": "markdown",
   "metadata": {},
   "source": [
    "## Tuple Data Retrieval\n",
    "\n",
    "Using the example from above. We retrieve the first value of the tuple with the following command: \n",
    "\n",
    "```python\n",
    "first_item = my_tuple[0]\n",
    "```\n",
    "\n",
    "Notice we use the flat brackets `[]` and a number to access a value in the tuple. The brackets are known as an access operator and the number within the brackets is the index that we'd like to access. The complete syntax is as follows:\n",
    "\n",
    "`<data structure name>[index]`\n",
    "\n",
    "**Key**: Remember the access operator `[]` they will be used to access the data from almost all other data structures we learn about. \n",
    "\n",
    "Below we are retrieving the last value of the tuple.\n",
    "\n",
    "```python\n",
    "last_item = my_tuple[-1]\n",
    "```\n",
    "\n",
    "You may notice that the indexing of tuples is similar to the indexing of strings. It's exactly the same!\n",
    "\n",
    "In the code below:\n",
    "\n",
    "1) We are creating a tuple.\n",
    "   \n",
    "2) Then we are retrieving the 2nd value from the tuple.\n",
    "   \n",
    "3) Then printing the value out on the console."
   ]
  },
  {
   "cell_type": "code",
   "execution_count": null,
   "metadata": {},
   "outputs": [],
   "source": [
    "my_tuple = (\"car\", \"cow\", \"taco\")\n",
    "\n",
    "second_value = my_tuple[1]\n",
    "\n",
    "print(f\"The second value is: {second_value}\")"
   ]
  },
  {
   "cell_type": "markdown",
   "metadata": {},
   "source": [
    "# List\n",
    "\n",
    "Lists are exactly like Tuples but they are mutable. This means we can modify them after they are created. We use the flat brackets `[]` to create a list. And we use the flat brackets `[]` to access items in the list too.\n",
    "\n",
    "The line below creates a list with the specified values.\n",
    "\n",
    "```python\n",
    "my_list = [\"apple\", \"banana\", \"cherry\"]\n",
    "```\n",
    "\n",
    "Creates an empty list:\n",
    "\n",
    "```python\n",
    "my_list = []\n",
    "```"
   ]
  },
  {
   "cell_type": "markdown",
   "metadata": {},
   "source": [
    "## Add to a list\n",
    "\n",
    "We use the `append()` method to add an item to the back of the list.\n",
    "\n",
    "```python\n",
    "my_list.append(\"orange\")\n",
    "```\n",
    "\n",
    "We use the `insert()` method to add an item to a specific location in a list. The line below adds an element at the 2nd spot in the list and shifts everything to the right one spot.\n",
    "\n",
    "```python\n",
    "my_list.insert(1, \"grape\")\n",
    "```\n",
    "\n",
    "Try adding your own fruits to the list below:"
   ]
  },
  {
   "cell_type": "code",
   "execution_count": null,
   "metadata": {},
   "outputs": [],
   "source": [
    "my_list = [\"apple\", \"banana\", \"cherry\"]\n",
    "\n",
    "my_list # Finish this line by adding your own fruits\n",
    "\n",
    "print(my_list)"
   ]
  },
  {
   "cell_type": "markdown",
   "metadata": {},
   "source": [
    "## Removing From List\n",
    "\n",
    "The `remove()` function removes the first occurrence of a value. The line below removes the first occurrence of “banana” from the list. In other words if the list has multiple “banana” values the first one found will be removed. If banana is not found an error will occur.\n",
    "\n",
    "```python\n",
    "my_list.remove(\"banana\")\n",
    "```\n",
    "\n",
    "The `del` keyword coupled with the access operator will remove the value at the specified index. The line below removes the element at index 0. If the list size-1 is less than the specified index an error will occur.\n",
    "\n",
    "```python\n",
    "del my_list[0]\n",
    "```\n",
    "\n",
    "The `clear()` method will remove everything from the list.\n",
    "\n",
    "```python\n",
    "my_list.clear()\n",
    "```\n",
    "\n",
    "In the cell below remove all the bananas from the list."
   ]
  },
  {
   "cell_type": "code",
   "execution_count": null,
   "metadata": {},
   "outputs": [],
   "source": [
    "my_list = [\"banana\", \"apple\", \"banana\", \"cherry\", \"banana\"]\n",
    "\n",
    "# remove all the banana's from the list\n",
    "\n",
    "print(my_list)"
   ]
  },
  {
   "cell_type": "markdown",
   "metadata": {},
   "source": [
    "# Iteration\n",
    "\n",
    "Before we can continue we must discuss iteration. When we work with for-loops we are iterating over a collection of items. Each iteration through the loop yields a value from the collection. \n",
    "\n",
    "In python we iterate over variables that are iterable. Iterable means something that can be iterated over. For example, we iterate over a string as each successive iteration yields a character in the string. But we cannot iterate over an integer the same way. \n",
    "\n",
    "An iterable data type produces a iterator which is an object that the for-loop uses to iterate over. \n",
    "\n",
    "Below is an example of a for-loop where we are iterating over each character in the variable `my_string` and printing it out."
   ]
  },
  {
   "cell_type": "code",
   "execution_count": null,
   "metadata": {},
   "outputs": [],
   "source": [
    "my_string = \"Hippos Dance\"\n",
    "\n",
    "for char in my_string:\n",
    "    print(char)"
   ]
  },
  {
   "cell_type": "markdown",
   "metadata": {},
   "source": [
    "Below is another example of how we may use for-loops in combination with the `range()` function to iterate over a sequence of numbers from 0 - 10. "
   ]
  },
  {
   "cell_type": "code",
   "execution_count": null,
   "metadata": {},
   "outputs": [],
   "source": [
    "for num in range(11):\n",
    "    print(num)"
   ]
  },
  {
   "cell_type": "markdown",
   "metadata": {},
   "source": [
    "We can iterate over a list or tuple in the same way. The example below we create a list of fruits and then we prints every value in the list. In\n",
    "\n",
    "*This syntax works the exact same way for tuples as well.*"
   ]
  },
  {
   "cell_type": "code",
   "execution_count": null,
   "metadata": {},
   "outputs": [],
   "source": [
    "my_list = [\"apple\", \"banana\", \"cherry\", \"melon\"]\n",
    "\n",
    "for x in my_list:\n",
    "\tprint(x)\n"
   ]
  }
 ],
 "metadata": {
  "interpreter": {
   "hash": "65d994a2586566578e6f5f03c290bfd0b2867c7905a9622796af24a8a04596a2"
  },
  "kernelspec": {
   "display_name": "Python 3.8.10 ('.venv': venv)",
   "language": "python",
   "name": "python3"
  },
  "language_info": {
   "codemirror_mode": {
    "name": "ipython",
    "version": 3
   },
   "file_extension": ".py",
   "mimetype": "text/x-python",
   "name": "python",
   "nbconvert_exporter": "python",
   "pygments_lexer": "ipython3",
   "version": "3.8.10"
  },
  "orig_nbformat": 4
 },
 "nbformat": 4,
 "nbformat_minor": 2
}
